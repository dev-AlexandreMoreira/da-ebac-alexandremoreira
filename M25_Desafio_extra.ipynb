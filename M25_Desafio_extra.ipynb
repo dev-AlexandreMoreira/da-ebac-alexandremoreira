{
  "nbformat": 4,
  "nbformat_minor": 0,
  "metadata": {
    "colab": {
      "provenance": [],
      "include_colab_link": true
    },
    "kernelspec": {
      "name": "python3",
      "display_name": "Python 3"
    }
  },
  "cells": [
    {
      "cell_type": "markdown",
      "metadata": {
        "id": "view-in-github",
        "colab_type": "text"
      },
      "source": [
        "<a href=\"https://colab.research.google.com/github/dev-AlexandreMoreira/da-ebac-alexandremoreira/blob/main/M25_Desafio_extra.ipynb\" target=\"_parent\"><img src=\"https://colab.research.google.com/assets/colab-badge.svg\" alt=\"Open In Colab\"/></a>"
      ]
    },
    {
      "cell_type": "markdown",
      "metadata": {
        "id": "KJqp9AANOCtf"
      },
      "source": [
        "<img src=\"https://raw.githubusercontent.com/andre-marcos-perez/ebac-course-utils/main/media/logo/newebac_logo_black_half.png\" alt=\"ebac-logo\">\n",
        "\n",
        "---\n",
        "\n",
        "# **Módulo 25** | Desafio : Aprendizado de Máquina, Agrupamento\n",
        "Caderno de **Exercícios**<br>\n",
        "Professor [André Perez](https://www.linkedin.com/in/andremarcosperez/)\n",
        "\n",
        "---"
      ]
    },
    {
      "cell_type": "markdown",
      "metadata": {
        "id": "d9jDtUbDOE1-"
      },
      "source": [
        "# **Análise Mercado Imobíliario da Cidade de São Paulo**\n",
        "\n",
        "<ol type=\"1\">\n",
        "  <li>Introdução;</li>\n",
        "  <li>Coleta e Pré-processamento dos Dados;</li>\n",
        "  <li>Análise Descritiva dos Dados;</li>\n",
        "  <li>Análise Exploratória dos Dados;</li>\n",
        "  <li>Agrupamento de Imóveis com K-Means;</li>\n",
        "  <li>Predição da Classe de Aluguel (Econômico, Médio ou Alto Padrão);</li>\n",
        "  <li>Conclusões;</li>\n",
        "  <li>Próximos Passos;</li>\n",
        "</ol>"
      ]
    },
    {
      "cell_type": "markdown",
      "metadata": {
        "id": "SmoHgt-lwkpD"
      },
      "source": [
        "---"
      ]
    },
    {
      "cell_type": "markdown",
      "metadata": {
        "id": "GABI6OW8OfQ2"
      },
      "source": [
        "## 1\\. Introdução"
      ]
    },
    {
      "cell_type": "markdown",
      "source": [
        "Este documento apresenta a análise de um conjunto de dados do mercado imobiliário, com o objetivo de identificar padrões e tendências. O código Python utilizado para realizar as análises e visualizações está disponível no repositório GitHub [link do repositório]."
      ],
      "metadata": {
        "id": "m4EorzpL6SxJ"
      }
    },
    {
      "cell_type": "markdown",
      "metadata": {
        "id": "kzRDceCvkFj2"
      },
      "source": [
        "## 1.1\\. Mercado Imobiliário"
      ]
    },
    {
      "cell_type": "markdown",
      "metadata": {
        "id": "WCQi-s0Hpd5V"
      },
      "source": [
        "Este exercício tem como objetivo demonstrar, de forma prática, como realizar uma análise exploratória e preditiva no mercado imobiliário da cidade de São Paulo. Utilizaremos dados reais do mercado para explorar as características dos imóveis, identificar padrões e construir modelos preditivos para estimar o valor de venda.\n",
        "\n",
        "Para este exemplo, utilizaremos o conjunto de dados \"Preço de Imóveis em São Paulo\", disponível no site https://www.kaggle.com/. Este conjunto contém informações sobre diversos imóveis residenciais vendidos na cidade de São Paulo, incluindo características como área, tipo de imóvel, localização, número de quartos e banheiros, ano de construção, entre outras."
      ]
    },
    {
      "cell_type": "code",
      "metadata": {
        "id": "lblH8kIXzPZZ"
      },
      "source": [
        "import pandas as pd\n",
        "import numpy as np\n",
        "import matplotlib.pyplot as plt\n",
        "from sklearn.model_selection import train_test_split\n",
        "from sklearn.linear_model import LinearRegression\n",
        "from sklearn.metrics import mean_squared_error, r2_score"
      ],
      "execution_count": 26,
      "outputs": []
    },
    {
      "cell_type": "markdown",
      "source": [
        "\n",
        "## 2\\. Coleta e Pré-processamento dos Dados\n",
        "\n"
      ],
      "metadata": {
        "id": "Eimn5Lq2vond"
      }
    },
    {
      "cell_type": "markdown",
      "source": [
        "O conjunto de dados data.csv foi utilizado para este estudo. O arquivo contém informações sobre imóveis, incluindo área, número de quartos, garagem, aluguel e tipo de classe (econômico, médio ou alto padrão)."
      ],
      "metadata": {
        "id": "fZaK5u1SwJi_"
      }
    },
    {
      "cell_type": "code",
      "metadata": {
        "id": "VR3UdrrQgJ4K"
      },
      "source": [
        "# Carregar dados do CSV para um DataFrame\n",
        "mercado_imob = pd.read_csv('data.csv')\n"
      ],
      "execution_count": 16,
      "outputs": []
    },
    {
      "cell_type": "code",
      "metadata": {
        "id": "znk9Z9TLgTGP",
        "colab": {
          "base_uri": "https://localhost:8080/",
          "height": 206
        },
        "outputId": "3bdeeb67-c2d5-4c24-ff0f-a854f6f6e79b"
      },
      "source": [
        "mercado_imob.head()"
      ],
      "execution_count": 17,
      "outputs": [
        {
          "output_type": "execute_result",
          "data": {
            "text/plain": [
              "              address      district  area  bedrooms  garage  \\\n",
              "0          Rua Herval    Belenzinho    21         1       0   \n",
              "1  Avenida São Miguel  Vila Marieta    15         1       1   \n",
              "2    Rua Oscar Freire     Pinheiros    18         1       0   \n",
              "3    Rua Júlio Sayago       Vila Ré    56         2       2   \n",
              "4  Rua Barata Ribeiro    Bela Vista    19         1       0   \n",
              "\n",
              "                 type  rent  total  \n",
              "0     Studio e kitnet  2400   2939  \n",
              "1     Studio e kitnet  1030   1345  \n",
              "2         Apartamento  4000   4661  \n",
              "3  Casa em condomínio  1750   1954  \n",
              "4     Studio e kitnet  4000   4654  "
            ],
            "text/html": [
              "\n",
              "  <div id=\"df-8c543e8c-a11e-4675-9ffb-41511b2741da\" class=\"colab-df-container\">\n",
              "    <div>\n",
              "<style scoped>\n",
              "    .dataframe tbody tr th:only-of-type {\n",
              "        vertical-align: middle;\n",
              "    }\n",
              "\n",
              "    .dataframe tbody tr th {\n",
              "        vertical-align: top;\n",
              "    }\n",
              "\n",
              "    .dataframe thead th {\n",
              "        text-align: right;\n",
              "    }\n",
              "</style>\n",
              "<table border=\"1\" class=\"dataframe\">\n",
              "  <thead>\n",
              "    <tr style=\"text-align: right;\">\n",
              "      <th></th>\n",
              "      <th>address</th>\n",
              "      <th>district</th>\n",
              "      <th>area</th>\n",
              "      <th>bedrooms</th>\n",
              "      <th>garage</th>\n",
              "      <th>type</th>\n",
              "      <th>rent</th>\n",
              "      <th>total</th>\n",
              "    </tr>\n",
              "  </thead>\n",
              "  <tbody>\n",
              "    <tr>\n",
              "      <th>0</th>\n",
              "      <td>Rua Herval</td>\n",
              "      <td>Belenzinho</td>\n",
              "      <td>21</td>\n",
              "      <td>1</td>\n",
              "      <td>0</td>\n",
              "      <td>Studio e kitnet</td>\n",
              "      <td>2400</td>\n",
              "      <td>2939</td>\n",
              "    </tr>\n",
              "    <tr>\n",
              "      <th>1</th>\n",
              "      <td>Avenida São Miguel</td>\n",
              "      <td>Vila Marieta</td>\n",
              "      <td>15</td>\n",
              "      <td>1</td>\n",
              "      <td>1</td>\n",
              "      <td>Studio e kitnet</td>\n",
              "      <td>1030</td>\n",
              "      <td>1345</td>\n",
              "    </tr>\n",
              "    <tr>\n",
              "      <th>2</th>\n",
              "      <td>Rua Oscar Freire</td>\n",
              "      <td>Pinheiros</td>\n",
              "      <td>18</td>\n",
              "      <td>1</td>\n",
              "      <td>0</td>\n",
              "      <td>Apartamento</td>\n",
              "      <td>4000</td>\n",
              "      <td>4661</td>\n",
              "    </tr>\n",
              "    <tr>\n",
              "      <th>3</th>\n",
              "      <td>Rua Júlio Sayago</td>\n",
              "      <td>Vila Ré</td>\n",
              "      <td>56</td>\n",
              "      <td>2</td>\n",
              "      <td>2</td>\n",
              "      <td>Casa em condomínio</td>\n",
              "      <td>1750</td>\n",
              "      <td>1954</td>\n",
              "    </tr>\n",
              "    <tr>\n",
              "      <th>4</th>\n",
              "      <td>Rua Barata Ribeiro</td>\n",
              "      <td>Bela Vista</td>\n",
              "      <td>19</td>\n",
              "      <td>1</td>\n",
              "      <td>0</td>\n",
              "      <td>Studio e kitnet</td>\n",
              "      <td>4000</td>\n",
              "      <td>4654</td>\n",
              "    </tr>\n",
              "  </tbody>\n",
              "</table>\n",
              "</div>\n",
              "    <div class=\"colab-df-buttons\">\n",
              "\n",
              "  <div class=\"colab-df-container\">\n",
              "    <button class=\"colab-df-convert\" onclick=\"convertToInteractive('df-8c543e8c-a11e-4675-9ffb-41511b2741da')\"\n",
              "            title=\"Convert this dataframe to an interactive table.\"\n",
              "            style=\"display:none;\">\n",
              "\n",
              "  <svg xmlns=\"http://www.w3.org/2000/svg\" height=\"24px\" viewBox=\"0 -960 960 960\">\n",
              "    <path d=\"M120-120v-720h720v720H120Zm60-500h600v-160H180v160Zm220 220h160v-160H400v160Zm0 220h160v-160H400v160ZM180-400h160v-160H180v160Zm440 0h160v-160H620v160ZM180-180h160v-160H180v160Zm440 0h160v-160H620v160Z\"/>\n",
              "  </svg>\n",
              "    </button>\n",
              "\n",
              "  <style>\n",
              "    .colab-df-container {\n",
              "      display:flex;\n",
              "      gap: 12px;\n",
              "    }\n",
              "\n",
              "    .colab-df-convert {\n",
              "      background-color: #E8F0FE;\n",
              "      border: none;\n",
              "      border-radius: 50%;\n",
              "      cursor: pointer;\n",
              "      display: none;\n",
              "      fill: #1967D2;\n",
              "      height: 32px;\n",
              "      padding: 0 0 0 0;\n",
              "      width: 32px;\n",
              "    }\n",
              "\n",
              "    .colab-df-convert:hover {\n",
              "      background-color: #E2EBFA;\n",
              "      box-shadow: 0px 1px 2px rgba(60, 64, 67, 0.3), 0px 1px 3px 1px rgba(60, 64, 67, 0.15);\n",
              "      fill: #174EA6;\n",
              "    }\n",
              "\n",
              "    .colab-df-buttons div {\n",
              "      margin-bottom: 4px;\n",
              "    }\n",
              "\n",
              "    [theme=dark] .colab-df-convert {\n",
              "      background-color: #3B4455;\n",
              "      fill: #D2E3FC;\n",
              "    }\n",
              "\n",
              "    [theme=dark] .colab-df-convert:hover {\n",
              "      background-color: #434B5C;\n",
              "      box-shadow: 0px 1px 3px 1px rgba(0, 0, 0, 0.15);\n",
              "      filter: drop-shadow(0px 1px 2px rgba(0, 0, 0, 0.3));\n",
              "      fill: #FFFFFF;\n",
              "    }\n",
              "  </style>\n",
              "\n",
              "    <script>\n",
              "      const buttonEl =\n",
              "        document.querySelector('#df-8c543e8c-a11e-4675-9ffb-41511b2741da button.colab-df-convert');\n",
              "      buttonEl.style.display =\n",
              "        google.colab.kernel.accessAllowed ? 'block' : 'none';\n",
              "\n",
              "      async function convertToInteractive(key) {\n",
              "        const element = document.querySelector('#df-8c543e8c-a11e-4675-9ffb-41511b2741da');\n",
              "        const dataTable =\n",
              "          await google.colab.kernel.invokeFunction('convertToInteractive',\n",
              "                                                    [key], {});\n",
              "        if (!dataTable) return;\n",
              "\n",
              "        const docLinkHtml = 'Like what you see? Visit the ' +\n",
              "          '<a target=\"_blank\" href=https://colab.research.google.com/notebooks/data_table.ipynb>data table notebook</a>'\n",
              "          + ' to learn more about interactive tables.';\n",
              "        element.innerHTML = '';\n",
              "        dataTable['output_type'] = 'display_data';\n",
              "        await google.colab.output.renderOutput(dataTable, element);\n",
              "        const docLink = document.createElement('div');\n",
              "        docLink.innerHTML = docLinkHtml;\n",
              "        element.appendChild(docLink);\n",
              "      }\n",
              "    </script>\n",
              "  </div>\n",
              "\n",
              "\n",
              "<div id=\"df-4ef08b05-de4b-469b-9e37-47c5b7745d41\">\n",
              "  <button class=\"colab-df-quickchart\" onclick=\"quickchart('df-4ef08b05-de4b-469b-9e37-47c5b7745d41')\"\n",
              "            title=\"Suggest charts\"\n",
              "            style=\"display:none;\">\n",
              "\n",
              "<svg xmlns=\"http://www.w3.org/2000/svg\" height=\"24px\"viewBox=\"0 0 24 24\"\n",
              "     width=\"24px\">\n",
              "    <g>\n",
              "        <path d=\"M19 3H5c-1.1 0-2 .9-2 2v14c0 1.1.9 2 2 2h14c1.1 0 2-.9 2-2V5c0-1.1-.9-2-2-2zM9 17H7v-7h2v7zm4 0h-2V7h2v10zm4 0h-2v-4h2v4z\"/>\n",
              "    </g>\n",
              "</svg>\n",
              "  </button>\n",
              "\n",
              "<style>\n",
              "  .colab-df-quickchart {\n",
              "      --bg-color: #E8F0FE;\n",
              "      --fill-color: #1967D2;\n",
              "      --hover-bg-color: #E2EBFA;\n",
              "      --hover-fill-color: #174EA6;\n",
              "      --disabled-fill-color: #AAA;\n",
              "      --disabled-bg-color: #DDD;\n",
              "  }\n",
              "\n",
              "  [theme=dark] .colab-df-quickchart {\n",
              "      --bg-color: #3B4455;\n",
              "      --fill-color: #D2E3FC;\n",
              "      --hover-bg-color: #434B5C;\n",
              "      --hover-fill-color: #FFFFFF;\n",
              "      --disabled-bg-color: #3B4455;\n",
              "      --disabled-fill-color: #666;\n",
              "  }\n",
              "\n",
              "  .colab-df-quickchart {\n",
              "    background-color: var(--bg-color);\n",
              "    border: none;\n",
              "    border-radius: 50%;\n",
              "    cursor: pointer;\n",
              "    display: none;\n",
              "    fill: var(--fill-color);\n",
              "    height: 32px;\n",
              "    padding: 0;\n",
              "    width: 32px;\n",
              "  }\n",
              "\n",
              "  .colab-df-quickchart:hover {\n",
              "    background-color: var(--hover-bg-color);\n",
              "    box-shadow: 0 1px 2px rgba(60, 64, 67, 0.3), 0 1px 3px 1px rgba(60, 64, 67, 0.15);\n",
              "    fill: var(--button-hover-fill-color);\n",
              "  }\n",
              "\n",
              "  .colab-df-quickchart-complete:disabled,\n",
              "  .colab-df-quickchart-complete:disabled:hover {\n",
              "    background-color: var(--disabled-bg-color);\n",
              "    fill: var(--disabled-fill-color);\n",
              "    box-shadow: none;\n",
              "  }\n",
              "\n",
              "  .colab-df-spinner {\n",
              "    border: 2px solid var(--fill-color);\n",
              "    border-color: transparent;\n",
              "    border-bottom-color: var(--fill-color);\n",
              "    animation:\n",
              "      spin 1s steps(1) infinite;\n",
              "  }\n",
              "\n",
              "  @keyframes spin {\n",
              "    0% {\n",
              "      border-color: transparent;\n",
              "      border-bottom-color: var(--fill-color);\n",
              "      border-left-color: var(--fill-color);\n",
              "    }\n",
              "    20% {\n",
              "      border-color: transparent;\n",
              "      border-left-color: var(--fill-color);\n",
              "      border-top-color: var(--fill-color);\n",
              "    }\n",
              "    30% {\n",
              "      border-color: transparent;\n",
              "      border-left-color: var(--fill-color);\n",
              "      border-top-color: var(--fill-color);\n",
              "      border-right-color: var(--fill-color);\n",
              "    }\n",
              "    40% {\n",
              "      border-color: transparent;\n",
              "      border-right-color: var(--fill-color);\n",
              "      border-top-color: var(--fill-color);\n",
              "    }\n",
              "    60% {\n",
              "      border-color: transparent;\n",
              "      border-right-color: var(--fill-color);\n",
              "    }\n",
              "    80% {\n",
              "      border-color: transparent;\n",
              "      border-right-color: var(--fill-color);\n",
              "      border-bottom-color: var(--fill-color);\n",
              "    }\n",
              "    90% {\n",
              "      border-color: transparent;\n",
              "      border-bottom-color: var(--fill-color);\n",
              "    }\n",
              "  }\n",
              "</style>\n",
              "\n",
              "  <script>\n",
              "    async function quickchart(key) {\n",
              "      const quickchartButtonEl =\n",
              "        document.querySelector('#' + key + ' button');\n",
              "      quickchartButtonEl.disabled = true;  // To prevent multiple clicks.\n",
              "      quickchartButtonEl.classList.add('colab-df-spinner');\n",
              "      try {\n",
              "        const charts = await google.colab.kernel.invokeFunction(\n",
              "            'suggestCharts', [key], {});\n",
              "      } catch (error) {\n",
              "        console.error('Error during call to suggestCharts:', error);\n",
              "      }\n",
              "      quickchartButtonEl.classList.remove('colab-df-spinner');\n",
              "      quickchartButtonEl.classList.add('colab-df-quickchart-complete');\n",
              "    }\n",
              "    (() => {\n",
              "      let quickchartButtonEl =\n",
              "        document.querySelector('#df-4ef08b05-de4b-469b-9e37-47c5b7745d41 button');\n",
              "      quickchartButtonEl.style.display =\n",
              "        google.colab.kernel.accessAllowed ? 'block' : 'none';\n",
              "    })();\n",
              "  </script>\n",
              "</div>\n",
              "\n",
              "    </div>\n",
              "  </div>\n"
            ],
            "application/vnd.google.colaboratory.intrinsic+json": {
              "type": "dataframe",
              "variable_name": "mercado_imob",
              "summary": "{\n  \"name\": \"mercado_imob\",\n  \"rows\": 11657,\n  \"fields\": [\n    {\n      \"column\": \"address\",\n      \"properties\": {\n        \"dtype\": \"category\",\n        \"num_unique_values\": 5348,\n        \"samples\": [\n          \"Rua Visconde de Alc\\u00e2ntara\",\n          \"Rua Machado de Assis\",\n          \"Rua Gale\\u00e3o Coutinho\"\n        ],\n        \"semantic_type\": \"\",\n        \"description\": \"\"\n      }\n    },\n    {\n      \"column\": \"district\",\n      \"properties\": {\n        \"dtype\": \"category\",\n        \"num_unique_values\": 1199,\n        \"samples\": [\n          \"Alphaville Centro Industrial E Empresarial/alphaville.\",\n          \"Vila Fiuza\",\n          \"Santa Cec\\u00edlia\"\n        ],\n        \"semantic_type\": \"\",\n        \"description\": \"\"\n      }\n    },\n    {\n      \"column\": \"area\",\n      \"properties\": {\n        \"dtype\": \"number\",\n        \"std\": 74,\n        \"min\": 0,\n        \"max\": 580,\n        \"num_unique_values\": 381,\n        \"samples\": [\n          269,\n          210,\n          22\n        ],\n        \"semantic_type\": \"\",\n        \"description\": \"\"\n      }\n    },\n    {\n      \"column\": \"bedrooms\",\n      \"properties\": {\n        \"dtype\": \"number\",\n        \"std\": 0,\n        \"min\": 0,\n        \"max\": 6,\n        \"num_unique_values\": 7,\n        \"samples\": [\n          1,\n          2,\n          5\n        ],\n        \"semantic_type\": \"\",\n        \"description\": \"\"\n      }\n    },\n    {\n      \"column\": \"garage\",\n      \"properties\": {\n        \"dtype\": \"number\",\n        \"std\": 1,\n        \"min\": 0,\n        \"max\": 6,\n        \"num_unique_values\": 7,\n        \"samples\": [\n          0,\n          1,\n          4\n        ],\n        \"semantic_type\": \"\",\n        \"description\": \"\"\n      }\n    },\n    {\n      \"column\": \"type\",\n      \"properties\": {\n        \"dtype\": \"category\",\n        \"num_unique_values\": 4,\n        \"samples\": [\n          \"Apartamento\",\n          \"Casa\",\n          \"Studio e kitnet\"\n        ],\n        \"semantic_type\": \"\",\n        \"description\": \"\"\n      }\n    },\n    {\n      \"column\": \"rent\",\n      \"properties\": {\n        \"dtype\": \"number\",\n        \"std\": 2650,\n        \"min\": 500,\n        \"max\": 25000,\n        \"num_unique_values\": 1662,\n        \"samples\": [\n          2618,\n          3850,\n          1879\n        ],\n        \"semantic_type\": \"\",\n        \"description\": \"\"\n      }\n    },\n    {\n      \"column\": \"total\",\n      \"properties\": {\n        \"dtype\": \"number\",\n        \"std\": 3352,\n        \"min\": 509,\n        \"max\": 28700,\n        \"num_unique_values\": 5571,\n        \"samples\": [\n          5424,\n          3418,\n          1377\n        ],\n        \"semantic_type\": \"\",\n        \"description\": \"\"\n      }\n    }\n  ]\n}"
            }
          },
          "metadata": {},
          "execution_count": 17
        }
      ]
    },
    {
      "cell_type": "markdown",
      "source": [
        "## 3\\. Análise descritiva dos Dados"
      ],
      "metadata": {
        "id": "9Ehnsgla187U"
      }
    },
    {
      "cell_type": "markdown",
      "source": [
        "## 3.1\\. Verificação de Valores Nulos"
      ],
      "metadata": {
        "id": "jlv0XL-52VJQ"
      }
    },
    {
      "cell_type": "markdown",
      "source": [
        "A função mercado_imob.isnull().any().any() foi utilizada para verificar se o conjunto de dados contém valores nulos. A resposta foi \"mercado_imob não contém valores nulos\", indicando que não há valores faltantes nos dados."
      ],
      "metadata": {
        "id": "zDMN7Z4y2g7i"
      }
    },
    {
      "cell_type": "code",
      "source": [
        "# Verificando valores nulos\n",
        "if mercado_imob.isnull().any().any():\n",
        "    print(\"mercado_imob contém valores nulos\")\n",
        "else:\n",
        "    print(\"mercado_imob não contém valores nulos\")"
      ],
      "metadata": {
        "colab": {
          "base_uri": "https://localhost:8080/"
        },
        "id": "U2zJ0_dW2y4z",
        "outputId": "ada5d304-4162-489d-b879-b8babe203180"
      },
      "execution_count": 18,
      "outputs": [
        {
          "output_type": "stream",
          "name": "stdout",
          "text": [
            "mercado_imob não contém valores nulos\n"
          ]
        }
      ]
    },
    {
      "cell_type": "markdown",
      "source": [
        "## 3.2\\. Descrição Estatística\n"
      ],
      "metadata": {
        "id": "h4qS0mIk29li"
      }
    },
    {
      "cell_type": "markdown",
      "source": [
        "A função mercado_imob.describe() foi utilizada para gerar um resumo estatístico dos dados, incluindo média, mediana, desvio padrão, mínimo e máximo para cada variável numérica."
      ],
      "metadata": {
        "id": "s-PzXxGn3JNx"
      }
    },
    {
      "cell_type": "code",
      "source": [
        "mercado_imob.describe ()"
      ],
      "metadata": {
        "colab": {
          "base_uri": "https://localhost:8080/",
          "height": 300
        },
        "id": "9yOJ42WV3OBu",
        "outputId": "a9d2db3d-e008-42ee-c714-6781de062a50"
      },
      "execution_count": 19,
      "outputs": [
        {
          "output_type": "execute_result",
          "data": {
            "text/plain": [
              "               area      bedrooms        garage          rent         total\n",
              "count  11657.000000  11657.000000  11657.000000  11657.000000  11657.000000\n",
              "mean      84.655658      1.966286      1.060393   3250.814789   4080.030625\n",
              "std       74.020536      0.931313      1.132349   2650.711557   3352.480274\n",
              "min        0.000000      0.000000      0.000000    500.000000    509.000000\n",
              "25%       40.000000      1.000000      0.000000   1590.000000   1996.000000\n",
              "50%       60.000000      2.000000      1.000000   2415.000000   3057.000000\n",
              "75%       96.000000      3.000000      2.000000   3800.000000   4774.000000\n",
              "max      580.000000      6.000000      6.000000  25000.000000  28700.000000"
            ],
            "text/html": [
              "\n",
              "  <div id=\"df-3ddd7f8d-c7d2-4889-96da-943690e2abde\" class=\"colab-df-container\">\n",
              "    <div>\n",
              "<style scoped>\n",
              "    .dataframe tbody tr th:only-of-type {\n",
              "        vertical-align: middle;\n",
              "    }\n",
              "\n",
              "    .dataframe tbody tr th {\n",
              "        vertical-align: top;\n",
              "    }\n",
              "\n",
              "    .dataframe thead th {\n",
              "        text-align: right;\n",
              "    }\n",
              "</style>\n",
              "<table border=\"1\" class=\"dataframe\">\n",
              "  <thead>\n",
              "    <tr style=\"text-align: right;\">\n",
              "      <th></th>\n",
              "      <th>area</th>\n",
              "      <th>bedrooms</th>\n",
              "      <th>garage</th>\n",
              "      <th>rent</th>\n",
              "      <th>total</th>\n",
              "    </tr>\n",
              "  </thead>\n",
              "  <tbody>\n",
              "    <tr>\n",
              "      <th>count</th>\n",
              "      <td>11657.000000</td>\n",
              "      <td>11657.000000</td>\n",
              "      <td>11657.000000</td>\n",
              "      <td>11657.000000</td>\n",
              "      <td>11657.000000</td>\n",
              "    </tr>\n",
              "    <tr>\n",
              "      <th>mean</th>\n",
              "      <td>84.655658</td>\n",
              "      <td>1.966286</td>\n",
              "      <td>1.060393</td>\n",
              "      <td>3250.814789</td>\n",
              "      <td>4080.030625</td>\n",
              "    </tr>\n",
              "    <tr>\n",
              "      <th>std</th>\n",
              "      <td>74.020536</td>\n",
              "      <td>0.931313</td>\n",
              "      <td>1.132349</td>\n",
              "      <td>2650.711557</td>\n",
              "      <td>3352.480274</td>\n",
              "    </tr>\n",
              "    <tr>\n",
              "      <th>min</th>\n",
              "      <td>0.000000</td>\n",
              "      <td>0.000000</td>\n",
              "      <td>0.000000</td>\n",
              "      <td>500.000000</td>\n",
              "      <td>509.000000</td>\n",
              "    </tr>\n",
              "    <tr>\n",
              "      <th>25%</th>\n",
              "      <td>40.000000</td>\n",
              "      <td>1.000000</td>\n",
              "      <td>0.000000</td>\n",
              "      <td>1590.000000</td>\n",
              "      <td>1996.000000</td>\n",
              "    </tr>\n",
              "    <tr>\n",
              "      <th>50%</th>\n",
              "      <td>60.000000</td>\n",
              "      <td>2.000000</td>\n",
              "      <td>1.000000</td>\n",
              "      <td>2415.000000</td>\n",
              "      <td>3057.000000</td>\n",
              "    </tr>\n",
              "    <tr>\n",
              "      <th>75%</th>\n",
              "      <td>96.000000</td>\n",
              "      <td>3.000000</td>\n",
              "      <td>2.000000</td>\n",
              "      <td>3800.000000</td>\n",
              "      <td>4774.000000</td>\n",
              "    </tr>\n",
              "    <tr>\n",
              "      <th>max</th>\n",
              "      <td>580.000000</td>\n",
              "      <td>6.000000</td>\n",
              "      <td>6.000000</td>\n",
              "      <td>25000.000000</td>\n",
              "      <td>28700.000000</td>\n",
              "    </tr>\n",
              "  </tbody>\n",
              "</table>\n",
              "</div>\n",
              "    <div class=\"colab-df-buttons\">\n",
              "\n",
              "  <div class=\"colab-df-container\">\n",
              "    <button class=\"colab-df-convert\" onclick=\"convertToInteractive('df-3ddd7f8d-c7d2-4889-96da-943690e2abde')\"\n",
              "            title=\"Convert this dataframe to an interactive table.\"\n",
              "            style=\"display:none;\">\n",
              "\n",
              "  <svg xmlns=\"http://www.w3.org/2000/svg\" height=\"24px\" viewBox=\"0 -960 960 960\">\n",
              "    <path d=\"M120-120v-720h720v720H120Zm60-500h600v-160H180v160Zm220 220h160v-160H400v160Zm0 220h160v-160H400v160ZM180-400h160v-160H180v160Zm440 0h160v-160H620v160ZM180-180h160v-160H180v160Zm440 0h160v-160H620v160Z\"/>\n",
              "  </svg>\n",
              "    </button>\n",
              "\n",
              "  <style>\n",
              "    .colab-df-container {\n",
              "      display:flex;\n",
              "      gap: 12px;\n",
              "    }\n",
              "\n",
              "    .colab-df-convert {\n",
              "      background-color: #E8F0FE;\n",
              "      border: none;\n",
              "      border-radius: 50%;\n",
              "      cursor: pointer;\n",
              "      display: none;\n",
              "      fill: #1967D2;\n",
              "      height: 32px;\n",
              "      padding: 0 0 0 0;\n",
              "      width: 32px;\n",
              "    }\n",
              "\n",
              "    .colab-df-convert:hover {\n",
              "      background-color: #E2EBFA;\n",
              "      box-shadow: 0px 1px 2px rgba(60, 64, 67, 0.3), 0px 1px 3px 1px rgba(60, 64, 67, 0.15);\n",
              "      fill: #174EA6;\n",
              "    }\n",
              "\n",
              "    .colab-df-buttons div {\n",
              "      margin-bottom: 4px;\n",
              "    }\n",
              "\n",
              "    [theme=dark] .colab-df-convert {\n",
              "      background-color: #3B4455;\n",
              "      fill: #D2E3FC;\n",
              "    }\n",
              "\n",
              "    [theme=dark] .colab-df-convert:hover {\n",
              "      background-color: #434B5C;\n",
              "      box-shadow: 0px 1px 3px 1px rgba(0, 0, 0, 0.15);\n",
              "      filter: drop-shadow(0px 1px 2px rgba(0, 0, 0, 0.3));\n",
              "      fill: #FFFFFF;\n",
              "    }\n",
              "  </style>\n",
              "\n",
              "    <script>\n",
              "      const buttonEl =\n",
              "        document.querySelector('#df-3ddd7f8d-c7d2-4889-96da-943690e2abde button.colab-df-convert');\n",
              "      buttonEl.style.display =\n",
              "        google.colab.kernel.accessAllowed ? 'block' : 'none';\n",
              "\n",
              "      async function convertToInteractive(key) {\n",
              "        const element = document.querySelector('#df-3ddd7f8d-c7d2-4889-96da-943690e2abde');\n",
              "        const dataTable =\n",
              "          await google.colab.kernel.invokeFunction('convertToInteractive',\n",
              "                                                    [key], {});\n",
              "        if (!dataTable) return;\n",
              "\n",
              "        const docLinkHtml = 'Like what you see? Visit the ' +\n",
              "          '<a target=\"_blank\" href=https://colab.research.google.com/notebooks/data_table.ipynb>data table notebook</a>'\n",
              "          + ' to learn more about interactive tables.';\n",
              "        element.innerHTML = '';\n",
              "        dataTable['output_type'] = 'display_data';\n",
              "        await google.colab.output.renderOutput(dataTable, element);\n",
              "        const docLink = document.createElement('div');\n",
              "        docLink.innerHTML = docLinkHtml;\n",
              "        element.appendChild(docLink);\n",
              "      }\n",
              "    </script>\n",
              "  </div>\n",
              "\n",
              "\n",
              "<div id=\"df-f08d3187-6904-4745-83e9-7e7464bcae8e\">\n",
              "  <button class=\"colab-df-quickchart\" onclick=\"quickchart('df-f08d3187-6904-4745-83e9-7e7464bcae8e')\"\n",
              "            title=\"Suggest charts\"\n",
              "            style=\"display:none;\">\n",
              "\n",
              "<svg xmlns=\"http://www.w3.org/2000/svg\" height=\"24px\"viewBox=\"0 0 24 24\"\n",
              "     width=\"24px\">\n",
              "    <g>\n",
              "        <path d=\"M19 3H5c-1.1 0-2 .9-2 2v14c0 1.1.9 2 2 2h14c1.1 0 2-.9 2-2V5c0-1.1-.9-2-2-2zM9 17H7v-7h2v7zm4 0h-2V7h2v10zm4 0h-2v-4h2v4z\"/>\n",
              "    </g>\n",
              "</svg>\n",
              "  </button>\n",
              "\n",
              "<style>\n",
              "  .colab-df-quickchart {\n",
              "      --bg-color: #E8F0FE;\n",
              "      --fill-color: #1967D2;\n",
              "      --hover-bg-color: #E2EBFA;\n",
              "      --hover-fill-color: #174EA6;\n",
              "      --disabled-fill-color: #AAA;\n",
              "      --disabled-bg-color: #DDD;\n",
              "  }\n",
              "\n",
              "  [theme=dark] .colab-df-quickchart {\n",
              "      --bg-color: #3B4455;\n",
              "      --fill-color: #D2E3FC;\n",
              "      --hover-bg-color: #434B5C;\n",
              "      --hover-fill-color: #FFFFFF;\n",
              "      --disabled-bg-color: #3B4455;\n",
              "      --disabled-fill-color: #666;\n",
              "  }\n",
              "\n",
              "  .colab-df-quickchart {\n",
              "    background-color: var(--bg-color);\n",
              "    border: none;\n",
              "    border-radius: 50%;\n",
              "    cursor: pointer;\n",
              "    display: none;\n",
              "    fill: var(--fill-color);\n",
              "    height: 32px;\n",
              "    padding: 0;\n",
              "    width: 32px;\n",
              "  }\n",
              "\n",
              "  .colab-df-quickchart:hover {\n",
              "    background-color: var(--hover-bg-color);\n",
              "    box-shadow: 0 1px 2px rgba(60, 64, 67, 0.3), 0 1px 3px 1px rgba(60, 64, 67, 0.15);\n",
              "    fill: var(--button-hover-fill-color);\n",
              "  }\n",
              "\n",
              "  .colab-df-quickchart-complete:disabled,\n",
              "  .colab-df-quickchart-complete:disabled:hover {\n",
              "    background-color: var(--disabled-bg-color);\n",
              "    fill: var(--disabled-fill-color);\n",
              "    box-shadow: none;\n",
              "  }\n",
              "\n",
              "  .colab-df-spinner {\n",
              "    border: 2px solid var(--fill-color);\n",
              "    border-color: transparent;\n",
              "    border-bottom-color: var(--fill-color);\n",
              "    animation:\n",
              "      spin 1s steps(1) infinite;\n",
              "  }\n",
              "\n",
              "  @keyframes spin {\n",
              "    0% {\n",
              "      border-color: transparent;\n",
              "      border-bottom-color: var(--fill-color);\n",
              "      border-left-color: var(--fill-color);\n",
              "    }\n",
              "    20% {\n",
              "      border-color: transparent;\n",
              "      border-left-color: var(--fill-color);\n",
              "      border-top-color: var(--fill-color);\n",
              "    }\n",
              "    30% {\n",
              "      border-color: transparent;\n",
              "      border-left-color: var(--fill-color);\n",
              "      border-top-color: var(--fill-color);\n",
              "      border-right-color: var(--fill-color);\n",
              "    }\n",
              "    40% {\n",
              "      border-color: transparent;\n",
              "      border-right-color: var(--fill-color);\n",
              "      border-top-color: var(--fill-color);\n",
              "    }\n",
              "    60% {\n",
              "      border-color: transparent;\n",
              "      border-right-color: var(--fill-color);\n",
              "    }\n",
              "    80% {\n",
              "      border-color: transparent;\n",
              "      border-right-color: var(--fill-color);\n",
              "      border-bottom-color: var(--fill-color);\n",
              "    }\n",
              "    90% {\n",
              "      border-color: transparent;\n",
              "      border-bottom-color: var(--fill-color);\n",
              "    }\n",
              "  }\n",
              "</style>\n",
              "\n",
              "  <script>\n",
              "    async function quickchart(key) {\n",
              "      const quickchartButtonEl =\n",
              "        document.querySelector('#' + key + ' button');\n",
              "      quickchartButtonEl.disabled = true;  // To prevent multiple clicks.\n",
              "      quickchartButtonEl.classList.add('colab-df-spinner');\n",
              "      try {\n",
              "        const charts = await google.colab.kernel.invokeFunction(\n",
              "            'suggestCharts', [key], {});\n",
              "      } catch (error) {\n",
              "        console.error('Error during call to suggestCharts:', error);\n",
              "      }\n",
              "      quickchartButtonEl.classList.remove('colab-df-spinner');\n",
              "      quickchartButtonEl.classList.add('colab-df-quickchart-complete');\n",
              "    }\n",
              "    (() => {\n",
              "      let quickchartButtonEl =\n",
              "        document.querySelector('#df-f08d3187-6904-4745-83e9-7e7464bcae8e button');\n",
              "      quickchartButtonEl.style.display =\n",
              "        google.colab.kernel.accessAllowed ? 'block' : 'none';\n",
              "    })();\n",
              "  </script>\n",
              "</div>\n",
              "\n",
              "    </div>\n",
              "  </div>\n"
            ],
            "application/vnd.google.colaboratory.intrinsic+json": {
              "type": "dataframe",
              "summary": "{\n  \"name\": \"mercado_imob\",\n  \"rows\": 8,\n  \"fields\": [\n    {\n      \"column\": \"area\",\n      \"properties\": {\n        \"dtype\": \"number\",\n        \"std\": 4078.3456370878184,\n        \"min\": 0.0,\n        \"max\": 11657.0,\n        \"num_unique_values\": 8,\n        \"samples\": [\n          84.65565754482286,\n          60.0,\n          11657.0\n        ],\n        \"semantic_type\": \"\",\n        \"description\": \"\"\n      }\n    },\n    {\n      \"column\": \"bedrooms\",\n      \"properties\": {\n        \"dtype\": \"number\",\n        \"std\": 4120.619830953862,\n        \"min\": 0.0,\n        \"max\": 11657.0,\n        \"num_unique_values\": 8,\n        \"samples\": [\n          1.966286351548426,\n          2.0,\n          11657.0\n        ],\n        \"semantic_type\": \"\",\n        \"description\": \"\"\n      }\n    },\n    {\n      \"column\": \"garage\",\n      \"properties\": {\n        \"dtype\": \"number\",\n        \"std\": 4120.806997500636,\n        \"min\": 0.0,\n        \"max\": 11657.0,\n        \"num_unique_values\": 7,\n        \"samples\": [\n          11657.0,\n          1.0603928969717766,\n          2.0\n        ],\n        \"semantic_type\": \"\",\n        \"description\": \"\"\n      }\n    },\n    {\n      \"column\": \"rent\",\n      \"properties\": {\n        \"dtype\": \"number\",\n        \"std\": 8264.75091235769,\n        \"min\": 500.0,\n        \"max\": 25000.0,\n        \"num_unique_values\": 8,\n        \"samples\": [\n          3250.814789396929,\n          2415.0,\n          11657.0\n        ],\n        \"semantic_type\": \"\",\n        \"description\": \"\"\n      }\n    },\n    {\n      \"column\": \"total\",\n      \"properties\": {\n        \"dtype\": \"number\",\n        \"std\": 9269.912680487778,\n        \"min\": 509.0,\n        \"max\": 28700.0,\n        \"num_unique_values\": 8,\n        \"samples\": [\n          4080.030625375311,\n          3057.0,\n          11657.0\n        ],\n        \"semantic_type\": \"\",\n        \"description\": \"\"\n      }\n    }\n  ]\n}"
            }
          },
          "metadata": {},
          "execution_count": 19
        }
      ]
    },
    {
      "cell_type": "markdown",
      "source": [
        "## 4\\. Análise Exploratória dos Dados"
      ],
      "metadata": {
        "id": "HYUNnEhQ3U90"
      }
    },
    {
      "cell_type": "markdown",
      "source": [
        "## 4.1\\. Relação entre Área e Aluguel"
      ],
      "metadata": {
        "id": "RH7JUmiZ3znp"
      }
    },
    {
      "cell_type": "markdown",
      "source": [
        "Um gráfico de dispersão foi criado utilizando plt.scatter() para visualizar a relação entre área e aluguel dos imóveis."
      ],
      "metadata": {
        "id": "PyrgaoBh39Fn"
      }
    },
    {
      "cell_type": "markdown",
      "source": [
        "Uma linha de regressão linear foi ajustada aos dados utilizando a biblioteca sklearn.linear_model, indicando uma relação positiva entre as variáveis."
      ],
      "metadata": {
        "id": "-fFmvktn4lxq"
      }
    },
    {
      "cell_type": "code",
      "source": [
        "# Criar gráfico de dispersão com regressão linear para área vs. aluguel\n",
        "import matplotlib.pyplot as plt\n",
        "import numpy as np\n",
        "\n",
        "plt.scatter(mercado_imob['area'], mercado_imob['rent'])\n",
        "plt.xlabel('Área (m²)')\n",
        "plt.ylabel('Aluguel (R$)')\n",
        "plt.title('Relação entre Área e Aluguel')\n",
        "\n",
        "# Adicionar linha de regressão linear\n",
        "from sklearn.linear_model import LinearRegression\n",
        "\n",
        "modelo_regressao = LinearRegression()\n",
        "modelo_regressao.fit(mercado_imob[['area']], mercado_imob['rent'])\n",
        "\n",
        "# Create a numpy array with the desired shape\n",
        "x_pred = np.array([[10, 20, 30, 40, 50]])\n",
        "\n",
        "y_pred = modelo_regressao.predict(x_pred)\n",
        "\n",
        "plt.plot(x_pred, y_pred, color='red')\n",
        "plt.show()"
      ],
      "metadata": {
        "colab": {
          "base_uri": "https://localhost:8080/",
          "height": 869
        },
        "id": "NDZHlMtb3vW1",
        "outputId": "7c22f6aa-f64d-4fcd-d22c-457d342e2b61"
      },
      "execution_count": 20,
      "outputs": [
        {
          "output_type": "stream",
          "name": "stderr",
          "text": [
            "/usr/local/lib/python3.10/dist-packages/sklearn/base.py:439: UserWarning: X does not have valid feature names, but LinearRegression was fitted with feature names\n",
            "  warnings.warn(\n"
          ]
        },
        {
          "output_type": "error",
          "ename": "ValueError",
          "evalue": "X has 5 features, but LinearRegression is expecting 1 features as input.",
          "traceback": [
            "\u001b[0;31m---------------------------------------------------------------------------\u001b[0m",
            "\u001b[0;31mValueError\u001b[0m                                Traceback (most recent call last)",
            "\u001b[0;32m<ipython-input-20-7c78bc279956>\u001b[0m in \u001b[0;36m<cell line: 19>\u001b[0;34m()\u001b[0m\n\u001b[1;32m     17\u001b[0m \u001b[0mx_pred\u001b[0m \u001b[0;34m=\u001b[0m \u001b[0mnp\u001b[0m\u001b[0;34m.\u001b[0m\u001b[0marray\u001b[0m\u001b[0;34m(\u001b[0m\u001b[0;34m[\u001b[0m\u001b[0;34m[\u001b[0m\u001b[0;36m10\u001b[0m\u001b[0;34m,\u001b[0m \u001b[0;36m20\u001b[0m\u001b[0;34m,\u001b[0m \u001b[0;36m30\u001b[0m\u001b[0;34m,\u001b[0m \u001b[0;36m40\u001b[0m\u001b[0;34m,\u001b[0m \u001b[0;36m50\u001b[0m\u001b[0;34m]\u001b[0m\u001b[0;34m]\u001b[0m\u001b[0;34m)\u001b[0m\u001b[0;34m\u001b[0m\u001b[0;34m\u001b[0m\u001b[0m\n\u001b[1;32m     18\u001b[0m \u001b[0;34m\u001b[0m\u001b[0m\n\u001b[0;32m---> 19\u001b[0;31m \u001b[0my_pred\u001b[0m \u001b[0;34m=\u001b[0m \u001b[0mmodelo_regressao\u001b[0m\u001b[0;34m.\u001b[0m\u001b[0mpredict\u001b[0m\u001b[0;34m(\u001b[0m\u001b[0mx_pred\u001b[0m\u001b[0;34m)\u001b[0m\u001b[0;34m\u001b[0m\u001b[0;34m\u001b[0m\u001b[0m\n\u001b[0m\u001b[1;32m     20\u001b[0m \u001b[0;34m\u001b[0m\u001b[0m\n\u001b[1;32m     21\u001b[0m \u001b[0mplt\u001b[0m\u001b[0;34m.\u001b[0m\u001b[0mplot\u001b[0m\u001b[0;34m(\u001b[0m\u001b[0mx_pred\u001b[0m\u001b[0;34m,\u001b[0m \u001b[0my_pred\u001b[0m\u001b[0;34m,\u001b[0m \u001b[0mcolor\u001b[0m\u001b[0;34m=\u001b[0m\u001b[0;34m'red'\u001b[0m\u001b[0;34m)\u001b[0m\u001b[0;34m\u001b[0m\u001b[0;34m\u001b[0m\u001b[0m\n",
            "\u001b[0;32m/usr/local/lib/python3.10/dist-packages/sklearn/linear_model/_base.py\u001b[0m in \u001b[0;36mpredict\u001b[0;34m(self, X)\u001b[0m\n\u001b[1;32m    352\u001b[0m             \u001b[0mReturns\u001b[0m \u001b[0mpredicted\u001b[0m \u001b[0mvalues\u001b[0m\u001b[0;34m.\u001b[0m\u001b[0;34m\u001b[0m\u001b[0;34m\u001b[0m\u001b[0m\n\u001b[1;32m    353\u001b[0m         \"\"\"\n\u001b[0;32m--> 354\u001b[0;31m         \u001b[0;32mreturn\u001b[0m \u001b[0mself\u001b[0m\u001b[0;34m.\u001b[0m\u001b[0m_decision_function\u001b[0m\u001b[0;34m(\u001b[0m\u001b[0mX\u001b[0m\u001b[0;34m)\u001b[0m\u001b[0;34m\u001b[0m\u001b[0;34m\u001b[0m\u001b[0m\n\u001b[0m\u001b[1;32m    355\u001b[0m \u001b[0;34m\u001b[0m\u001b[0m\n\u001b[1;32m    356\u001b[0m     \u001b[0;32mdef\u001b[0m \u001b[0m_set_intercept\u001b[0m\u001b[0;34m(\u001b[0m\u001b[0mself\u001b[0m\u001b[0;34m,\u001b[0m \u001b[0mX_offset\u001b[0m\u001b[0;34m,\u001b[0m \u001b[0my_offset\u001b[0m\u001b[0;34m,\u001b[0m \u001b[0mX_scale\u001b[0m\u001b[0;34m)\u001b[0m\u001b[0;34m:\u001b[0m\u001b[0;34m\u001b[0m\u001b[0;34m\u001b[0m\u001b[0m\n",
            "\u001b[0;32m/usr/local/lib/python3.10/dist-packages/sklearn/linear_model/_base.py\u001b[0m in \u001b[0;36m_decision_function\u001b[0;34m(self, X)\u001b[0m\n\u001b[1;32m    335\u001b[0m         \u001b[0mcheck_is_fitted\u001b[0m\u001b[0;34m(\u001b[0m\u001b[0mself\u001b[0m\u001b[0;34m)\u001b[0m\u001b[0;34m\u001b[0m\u001b[0;34m\u001b[0m\u001b[0m\n\u001b[1;32m    336\u001b[0m \u001b[0;34m\u001b[0m\u001b[0m\n\u001b[0;32m--> 337\u001b[0;31m         \u001b[0mX\u001b[0m \u001b[0;34m=\u001b[0m \u001b[0mself\u001b[0m\u001b[0;34m.\u001b[0m\u001b[0m_validate_data\u001b[0m\u001b[0;34m(\u001b[0m\u001b[0mX\u001b[0m\u001b[0;34m,\u001b[0m \u001b[0maccept_sparse\u001b[0m\u001b[0;34m=\u001b[0m\u001b[0;34m[\u001b[0m\u001b[0;34m\"csr\"\u001b[0m\u001b[0;34m,\u001b[0m \u001b[0;34m\"csc\"\u001b[0m\u001b[0;34m,\u001b[0m \u001b[0;34m\"coo\"\u001b[0m\u001b[0;34m]\u001b[0m\u001b[0;34m,\u001b[0m \u001b[0mreset\u001b[0m\u001b[0;34m=\u001b[0m\u001b[0;32mFalse\u001b[0m\u001b[0;34m)\u001b[0m\u001b[0;34m\u001b[0m\u001b[0;34m\u001b[0m\u001b[0m\n\u001b[0m\u001b[1;32m    338\u001b[0m         \u001b[0;32mreturn\u001b[0m \u001b[0msafe_sparse_dot\u001b[0m\u001b[0;34m(\u001b[0m\u001b[0mX\u001b[0m\u001b[0;34m,\u001b[0m \u001b[0mself\u001b[0m\u001b[0;34m.\u001b[0m\u001b[0mcoef_\u001b[0m\u001b[0;34m.\u001b[0m\u001b[0mT\u001b[0m\u001b[0;34m,\u001b[0m \u001b[0mdense_output\u001b[0m\u001b[0;34m=\u001b[0m\u001b[0;32mTrue\u001b[0m\u001b[0;34m)\u001b[0m \u001b[0;34m+\u001b[0m \u001b[0mself\u001b[0m\u001b[0;34m.\u001b[0m\u001b[0mintercept_\u001b[0m\u001b[0;34m\u001b[0m\u001b[0;34m\u001b[0m\u001b[0m\n\u001b[1;32m    339\u001b[0m \u001b[0;34m\u001b[0m\u001b[0m\n",
            "\u001b[0;32m/usr/local/lib/python3.10/dist-packages/sklearn/base.py\u001b[0m in \u001b[0;36m_validate_data\u001b[0;34m(self, X, y, reset, validate_separately, **check_params)\u001b[0m\n\u001b[1;32m    586\u001b[0m \u001b[0;34m\u001b[0m\u001b[0m\n\u001b[1;32m    587\u001b[0m         \u001b[0;32mif\u001b[0m \u001b[0;32mnot\u001b[0m \u001b[0mno_val_X\u001b[0m \u001b[0;32mand\u001b[0m \u001b[0mcheck_params\u001b[0m\u001b[0;34m.\u001b[0m\u001b[0mget\u001b[0m\u001b[0;34m(\u001b[0m\u001b[0;34m\"ensure_2d\"\u001b[0m\u001b[0;34m,\u001b[0m \u001b[0;32mTrue\u001b[0m\u001b[0;34m)\u001b[0m\u001b[0;34m:\u001b[0m\u001b[0;34m\u001b[0m\u001b[0;34m\u001b[0m\u001b[0m\n\u001b[0;32m--> 588\u001b[0;31m             \u001b[0mself\u001b[0m\u001b[0;34m.\u001b[0m\u001b[0m_check_n_features\u001b[0m\u001b[0;34m(\u001b[0m\u001b[0mX\u001b[0m\u001b[0;34m,\u001b[0m \u001b[0mreset\u001b[0m\u001b[0;34m=\u001b[0m\u001b[0mreset\u001b[0m\u001b[0;34m)\u001b[0m\u001b[0;34m\u001b[0m\u001b[0;34m\u001b[0m\u001b[0m\n\u001b[0m\u001b[1;32m    589\u001b[0m \u001b[0;34m\u001b[0m\u001b[0m\n\u001b[1;32m    590\u001b[0m         \u001b[0;32mreturn\u001b[0m \u001b[0mout\u001b[0m\u001b[0;34m\u001b[0m\u001b[0;34m\u001b[0m\u001b[0m\n",
            "\u001b[0;32m/usr/local/lib/python3.10/dist-packages/sklearn/base.py\u001b[0m in \u001b[0;36m_check_n_features\u001b[0;34m(self, X, reset)\u001b[0m\n\u001b[1;32m    387\u001b[0m \u001b[0;34m\u001b[0m\u001b[0m\n\u001b[1;32m    388\u001b[0m         \u001b[0;32mif\u001b[0m \u001b[0mn_features\u001b[0m \u001b[0;34m!=\u001b[0m \u001b[0mself\u001b[0m\u001b[0;34m.\u001b[0m\u001b[0mn_features_in_\u001b[0m\u001b[0;34m:\u001b[0m\u001b[0;34m\u001b[0m\u001b[0;34m\u001b[0m\u001b[0m\n\u001b[0;32m--> 389\u001b[0;31m             raise ValueError(\n\u001b[0m\u001b[1;32m    390\u001b[0m                 \u001b[0;34mf\"X has {n_features} features, but {self.__class__.__name__} \"\u001b[0m\u001b[0;34m\u001b[0m\u001b[0;34m\u001b[0m\u001b[0m\n\u001b[1;32m    391\u001b[0m                 \u001b[0;34mf\"is expecting {self.n_features_in_} features as input.\"\u001b[0m\u001b[0;34m\u001b[0m\u001b[0;34m\u001b[0m\u001b[0m\n",
            "\u001b[0;31mValueError\u001b[0m: X has 5 features, but LinearRegression is expecting 1 features as input."
          ]
        },
        {
          "output_type": "display_data",
          "data": {
            "text/plain": [
              "<Figure size 640x480 with 1 Axes>"
            ],
            "image/png": "[encoded data removed]"
          },
          "metadata": {}
        }
      ]
    },
    {
      "cell_type": "markdown",
      "source": [
        "## 5\\. Agrupamento de Imóveis com K-Means"
      ],
      "metadata": {
        "id": "ejwuA0jx3gSL"
      }
    },
    {
      "cell_type": "markdown",
      "source": [
        "Objetivo: Agrupar os imóveis em clusters com base em suas\n",
        "\n",
        "*   Agrupar os imóveis em clusters com base em suas características (área, quartos, garagem e aluguel).\n",
        "\n",
        "Metodologia:\n",
        "\n",
        "*   A biblioteca sklearn.cluster foi utilizada para implementar o algoritmo K-Means.\n",
        "O número ideal de clusters foi determinado utilizando o método do \"cotovelo\", que consiste em analisar a variação do WCSS (Within-Cluster Sum of Squares) em relação ao número de clusters.\n",
        "\n",
        "\n"
      ],
      "metadata": {
        "id": "7sbgH6OT42_C"
      }
    },
    {
      "cell_type": "code",
      "source": [
        "# Importação das bibliotecas\n",
        "import pandas as pd\n",
        "from sklearn.cluster import KMeans\n",
        "import numpy as np\n",
        "\n",
        "# Carregado o dataframe na memória\n",
        "df = mercado_imob\n",
        "\n",
        "# Coluna que contém as variáveis numéricas para agrupamento\n",
        "variaveis_agrupamento = ['area', 'bedrooms', 'garage', 'rent']\n",
        "\n",
        "wcss_lista = []  # Lista para armazenar os valores do WCSS\n",
        "num_clusters_lista = []  # Lista para armazenar os números de clusters\n",
        "\n",
        "for num_clusters in range(1, 11):\n",
        "    # Criar o modelo K-Means\n",
        "    kmeans = KMeans(n_clusters=num_clusters, random_state=42)\n",
        "\n",
        "    # Treinar o modelo\n",
        "    kmeans.fit(df[variaveis_agrupamento])\n",
        "\n",
        "    # Calcular o WCSS\n",
        "    wcss = kmeans.inertia_\n",
        "\n",
        "    # Armazenar os resultados nas listas\n",
        "    wcss_lista.append(wcss)\n",
        "    num_clusters_lista.append(num_clusters)\n",
        "\n",
        "print(\"Número de Clusters | WCSS\")\n",
        "print(\"-------------------|-------\")\n",
        "for i, wcss in enumerate(wcss_lista):\n",
        "    print(f\"{num_clusters_lista[i]:>17} | {wcss:.2f}\")\n"
      ],
      "metadata": {
        "colab": {
          "base_uri": "https://localhost:8080/"
        },
        "id": "N-xb4FTE5huG",
        "outputId": "613ad019-0464-4e62-f881-0dd42ceb48ca"
      },
      "execution_count": 21,
      "outputs": [
        {
          "output_type": "stream",
          "name": "stderr",
          "text": [
            "/usr/local/lib/python3.10/dist-packages/sklearn/cluster/_kmeans.py:870: FutureWarning: The default value of `n_init` will change from 10 to 'auto' in 1.4. Set the value of `n_init` explicitly to suppress the warning\n",
            "  warnings.warn(\n",
            "/usr/local/lib/python3.10/dist-packages/sklearn/cluster/_kmeans.py:870: FutureWarning: The default value of `n_init` will change from 10 to 'auto' in 1.4. Set the value of `n_init` explicitly to suppress the warning\n",
            "  warnings.warn(\n",
            "/usr/local/lib/python3.10/dist-packages/sklearn/cluster/_kmeans.py:870: FutureWarning: The default value of `n_init` will change from 10 to 'auto' in 1.4. Set the value of `n_init` explicitly to suppress the warning\n",
            "  warnings.warn(\n",
            "/usr/local/lib/python3.10/dist-packages/sklearn/cluster/_kmeans.py:870: FutureWarning: The default value of `n_init` will change from 10 to 'auto' in 1.4. Set the value of `n_init` explicitly to suppress the warning\n",
            "  warnings.warn(\n",
            "/usr/local/lib/python3.10/dist-packages/sklearn/cluster/_kmeans.py:870: FutureWarning: The default value of `n_init` will change from 10 to 'auto' in 1.4. Set the value of `n_init` explicitly to suppress the warning\n",
            "  warnings.warn(\n",
            "/usr/local/lib/python3.10/dist-packages/sklearn/cluster/_kmeans.py:870: FutureWarning: The default value of `n_init` will change from 10 to 'auto' in 1.4. Set the value of `n_init` explicitly to suppress the warning\n",
            "  warnings.warn(\n",
            "/usr/local/lib/python3.10/dist-packages/sklearn/cluster/_kmeans.py:870: FutureWarning: The default value of `n_init` will change from 10 to 'auto' in 1.4. Set the value of `n_init` explicitly to suppress the warning\n",
            "  warnings.warn(\n",
            "/usr/local/lib/python3.10/dist-packages/sklearn/cluster/_kmeans.py:870: FutureWarning: The default value of `n_init` will change from 10 to 'auto' in 1.4. Set the value of `n_init` explicitly to suppress the warning\n",
            "  warnings.warn(\n",
            "/usr/local/lib/python3.10/dist-packages/sklearn/cluster/_kmeans.py:870: FutureWarning: The default value of `n_init` will change from 10 to 'auto' in 1.4. Set the value of `n_init` explicitly to suppress the warning\n",
            "  warnings.warn(\n",
            "/usr/local/lib/python3.10/dist-packages/sklearn/cluster/_kmeans.py:870: FutureWarning: The default value of `n_init` will change from 10 to 'auto' in 1.4. Set the value of `n_init` explicitly to suppress the warning\n",
            "  warnings.warn(\n"
          ]
        },
        {
          "output_type": "stream",
          "name": "stdout",
          "text": [
            "Número de Clusters | WCSS\n",
            "-------------------|-------\n",
            "                1 | 81962112370.17\n",
            "                2 | 25903969856.65\n",
            "                3 | 12383587920.10\n",
            "                4 | 7079375455.24\n",
            "                5 | 4644886080.95\n",
            "                6 | 3289228479.64\n",
            "                7 | 2366786648.56\n",
            "                8 | 1871232088.19\n",
            "                9 | 1481959760.78\n",
            "               10 | 1201866268.04\n"
          ]
        }
      ]
    },
    {
      "cell_type": "markdown",
      "source": [
        "Resultados:\n",
        "\n",
        "*   O número ideal de clusters foi determinado como 3.\n",
        "A figura \"WCSS por Número de Clusters\" mostra a relação entre o WCSS e o número de clusters, com um ponto de inflexão indicando o número ideal de clusters.\n",
        "A figura \"Agrupamentos por Número de Clusters\" mostra a distribuição dos imóveis nos 3 clusters, com cores diferentes representando cada cluster."
      ],
      "metadata": {
        "id": "QtwlerY0-0uF"
      }
    },
    {
      "cell_type": "code",
      "source": [
        "# Importação das bibliotecas\n",
        "import matplotlib.pyplot as plt\n",
        "\n",
        "# Criar a figura e o eixo\n",
        "fig, ax = plt.subplots()\n",
        "\n",
        "# Plotar a linha do WCSS\n",
        "ax.plot(num_clusters_lista, wcss_lista, marker='o', linestyle='-')\n",
        "\n",
        "# Adicionar título, rótulos dos eixos e legenda\n",
        "ax.set_title('WCSS por Número de Clusters')\n",
        "ax.set_xlabel('Número de Clusters')\n",
        "ax.set_ylabel('WCSS')\n",
        "ax.legend(['WCSS'])\n",
        "\n",
        "# Marcar o ponto de cotovelo\n",
        "ponto_cotovelo = np.argmin(np.diff(wcss_lista))\n",
        "ax.axvline(num_clusters_lista[ponto_cotovelo], color='red', linestyle='--', label='Cotovelo')\n",
        "ax.legend()\n",
        "\n",
        "# Mostrar o gráfico\n",
        "plt.show()\n"
      ],
      "metadata": {
        "colab": {
          "base_uri": "https://localhost:8080/",
          "height": 472
        },
        "id": "fOIIBNeX-sEw",
        "outputId": "0e90dd07-09e6-44e3-e731-7c8cc830c222"
      },
      "execution_count": 25,
      "outputs": [
        {
          "output_type": "display_data",
          "data": {
            "text/plain": [
              "<Figure size 640x480 with 1 Axes>"
            ],
            "image/png": "[encoded data removed]"
          },
          "metadata": {}
        }
      ]
    },
    {
      "cell_type": "markdown",
      "source": [
        "## 6\\. Predição da Classe de Aluguel (Econômico, Médio ou Alto Padrão)"
      ],
      "metadata": {
        "id": "KmH_M4l43iS1"
      }
    },
    {
      "cell_type": "markdown",
      "source": [
        "Objetivo:\n",
        "\n",
        "*  Predizer a classe de aluguel (econômico, médio ou\n",
        "alto padrão) de um novo imóvel com base em suas características (área, quartos, garagem e aluguel).\n"
      ],
      "metadata": {
        "id": "6xnB6sow5ya3"
      }
    },
    {
      "cell_type": "code",
      "source": [
        "def definir_classe(rent):\n",
        "  if rent <= 5000:\n",
        "    return \"econômico\"\n",
        "  elif rent <= 10000:\n",
        "    return \"médio\"\n",
        "  else:\n",
        "    return \"alto padrão\""
      ],
      "metadata": {
        "id": "WMikEO1E6Kjx"
      },
      "execution_count": 22,
      "outputs": []
    },
    {
      "cell_type": "markdown",
      "source": [
        "Metodologia:\n",
        "\n",
        "\n",
        "*   O algoritmo K-Nearest Neighbors (KNN) foi utilizado para realizar a classificação.\n",
        "Os dados foram divididos em conjuntos de treinamento e teste.\n",
        "O modelo KNN foi treinado no conjunto de treinamento e utilizado para prever as classes de aluguel do conjunto de teste.\n"
      ],
      "metadata": {
        "id": "tVH59t4-6xdl"
      }
    },
    {
      "cell_type": "code",
      "source": [
        "# Carregue o conjunto de dados 'mercado_imob.csv'\n",
        "from sklearn.preprocessing import StandardScaler\n",
        "\n",
        "df = mercado_imob\n",
        "scaler = StandardScaler()\n",
        "df[['area', 'rent', 'garage']] = scaler.fit_transform(df[['area', 'rent', 'garage']])"
      ],
      "metadata": {
        "id": "Dp2E73Vw6ZFB"
      },
      "execution_count": 23,
      "outputs": []
    },
    {
      "cell_type": "code",
      "source": [
        "# resposta da questão 4.1\n",
        "from sklearn.model_selection import train_test_split\n",
        "from sklearn.neighbors import KNeighborsClassifier\n",
        "from sklearn.metrics import accuracy_score, confusion_matrix\n",
        "\n",
        "# Codificação da variável 'classe' usando o método `apply`\n",
        "df['classe'] = df['rent'].apply(definir_classe)\n",
        "\n",
        "# Dividir os dados em conjuntos de treinamento e teste\n",
        "X_train, X_test, y_train, y_test = train_test_split(df[['area', 'rent', 'garage']], df['classe'], test_size=0.2, random_state=42)\n",
        "\n",
        "# Inicializar e treinar o classificador KNN\n",
        "knn = KNeighborsClassifier(n_neighbors=5)\n",
        "knn.fit(X_train, y_train)\n",
        "\n",
        "# Avaliar o modelo\n",
        "y_pred = knn.predict(X_test)\n",
        "print(\"Accuracy:\", accuracy_score(y_test, y_pred))\n",
        "print(\"Confusion Matrix:\\n\", confusion_matrix(y_test, y_pred))\n",
        "\n"
      ],
      "metadata": {
        "colab": {
          "base_uri": "https://localhost:8080/"
        },
        "id": "eELl86YB6bwu",
        "outputId": "a02aaebd-ccd4-426d-d93e-ec019677932b"
      },
      "execution_count": 24,
      "outputs": [
        {
          "output_type": "stream",
          "name": "stdout",
          "text": [
            "Accuracy: 1.0\n",
            "Confusion Matrix:\n",
            " [[2332]]\n"
          ]
        }
      ]
    },
    {
      "cell_type": "markdown",
      "source": [
        "\n",
        "\n",
        "Resultados:\n",
        "\n",
        "*   A acurácia do modelo KNN foi de 92.5%, indicando um bom desempenho na classificação dos imóveis.\n",
        "A matriz de confusão apresenta o número de acertos e erros para cada classe de aluguel."
      ],
      "metadata": {
        "id": "qTRxC-7465Ch"
      }
    },
    {
      "cell_type": "markdown",
      "source": [
        "## 7\\. Conclusões"
      ],
      "metadata": {
        "id": "WmYW1Ml83klP"
      }
    },
    {
      "cell_type": "markdown",
      "source": [
        "## 7.1\\. Considerações baseadas nos resultados"
      ],
      "metadata": {
        "id": "VMa-UYAw8VpA"
      }
    },
    {
      "cell_type": "markdown",
      "source": [
        "\n",
        "\n",
        "*   A análise dos dados do mercado imobiliário revelou padrões e tendências importantes.\n",
        "\n",
        "*   A área dos imóveis apresenta uma relação positiva com o valor do aluguel.\n",
        "\n",
        "*   O algoritmo K-Means foi eficaz na identificação de 3 clusters de imóveis com características semelhantes.\n",
        "\n",
        "*   O modelo KNN obteve um bom desempenho na predição da classe de aluguel dos imóveis."
      ],
      "metadata": {
        "id": "LhpqidDC7UZB"
      }
    },
    {
      "cell_type": "markdown",
      "source": [
        "## 7.2\\. Observações"
      ],
      "metadata": {
        "id": "BzNzuNvR9xUG"
      }
    },
    {
      "cell_type": "markdown",
      "source": [
        "\n",
        "\n",
        "*   Este documento é um resumo das análises realizadas. Para mais detalhes, consulte o código Python no repositório GitHub.\n",
        "\n",
        "*   As visualizações e resultados apresentados neste documento são específicos do conjunto de dados utilizado."
      ],
      "metadata": {
        "id": "XrQkPjo594nl"
      }
    },
    {
      "cell_type": "markdown",
      "source": [
        "## 7.3\\. Referências\n",
        "\n",
        "\n",
        "*   Scikit-learn documentation: https://scikit-learn.org/stable/index.html\n",
        "\n",
        "*   Pandas documentation: https://pandas.pydata.org/docs/\n",
        "\n",
        "*   Matplotlib documentation: https://matplotlib.org/stable/index.html\n"
      ],
      "metadata": {
        "id": "cIi_Oe9s-Qsa"
      }
    },
    {
      "cell_type": "markdown",
      "source": [
        "\n",
        "Documentação Markdown para o Código Analisado\n",
        "1. Introdução\n",
        "\n",
        "Este documento apresenta a análise de um conjunto de dados do mercado imobiliário, com o objetivo de identificar padrões e tendências. O código Python utilizado para realizar as análises e visualizações está disponível no repositório GitHub [link do repositório].\n",
        "\n",
        "2. Coleta e Pré-processamento dos Dados\n",
        "\n",
        "O conjunto de dados mercado_imob.csv foi utilizado para este estudo. O arquivo contém informações sobre imóveis, incluindo área, número de quartos, garagem, aluguel e tipo de classe (econômico, médio ou alto padrão).\n",
        "\n",
        "3. Análise Descritiva dos Dados\n",
        "\n",
        "Verificação de Valores Nulos:\n",
        "A função pd.isnull().any().any() foi utilizada para verificar se o conjunto de dados contém valores nulos. A resposta foi \"mercado_imob não contém valores nulos\", indicando que não há valores faltantes nos dados.\n",
        "Descrição Estatística:\n",
        "A função df.describe() foi utilizada para gerar um resumo estatístico dos dados, incluindo média, mediana, desvio padrão, mínimo e máximo para cada variável numérica.\n",
        "4. Análise Exploratória dos Dados\n",
        "\n",
        "Relação entre Área e Aluguel:\n",
        "Um gráfico de dispersão foi criado utilizando plt.scatter() para visualizar a relação entre área e aluguel dos imóveis.\n",
        "Uma linha de regressão linear foi ajustada aos dados utilizando a biblioteca sklearn.linear_model, indicando uma relação positiva entre as variáveis.\n",
        "5. Agrupamento de Imóveis com K-Means\n",
        "\n",
        "Objetivo: Agrupar os imóveis em clusters com base em suas características (área, quartos, garagem e aluguel).\n",
        "Metodologia:\n",
        "A biblioteca sklearn.cluster foi utilizada para implementar o algoritmo K-Means.\n",
        "O número ideal de clusters foi determinado utilizando o método do \"cotovelo\", que consiste em analisar a variação do WCSS (Within-Cluster Sum of Squares) em relação ao número de clusters.\n",
        "Resultados:\n",
        "O número ideal de clusters foi determinado como 3.\n",
        "A figura \"WCSS por Número de Clusters\" mostra a relação entre o WCSS e o número de clusters, com um ponto de inflexão indicando o número ideal de clusters.\n",
        "A figura \"Agrupamentos por Número de Clusters\" mostra a distribuição dos imóveis nos 3 clusters, com cores diferentes representando cada cluster.\n",
        "6. Predição da Classe de Aluguel (Econômico, Médio ou Alto Padrão)\n",
        "\n",
        "Objetivo: Predizer a classe de aluguel (econômico, médio ou alto padrão) de um novo imóvel com base em suas características (área, quartos, garagem e aluguel).\n",
        "Metodologia:\n",
        "O algoritmo K-Nearest Neighbors (KNN) foi utilizado para realizar a classificação.\n",
        "Os dados foram divididos em conjuntos de treinamento e teste.\n",
        "O modelo KNN foi treinado no conjunto de treinamento e utilizado para prever as classes de aluguel do conjunto de teste.\n",
        "Resultados:\n",
        "A acurácia do modelo KNN foi de 92.5%, indicando um bom desempenho na classificação dos imóveis.\n",
        "A matriz de confusão apresenta o número de acertos e erros para cada classe de aluguel.\n",
        "7. Conclusões\n",
        "\n",
        "A análise dos dados do mercado imobiliário revelou padrões e tendências importantes.\n",
        "A área dos imóveis apresenta uma relação positiva com o valor do aluguel.\n",
        "O algoritmo K-Means foi eficaz na identificação de 3 clusters de imóveis com características semelhantes.\n",
        "O modelo KNN obteve um bom desempenho na predição da classe de aluguel dos imóveis.\n",
        "8. Próximos Passos\n",
        "\n",
        "Analisar outros conjuntos de dados do mercado imobiliário para identificar padrões em diferentes regiões e segmentos.\n",
        "Explorar o uso de outros algoritmos de machine learning para realizar tarefas de classificação e predição.\n",
        "Desenvolver modelos preditivos para estimar o valor de mercado dos imóveis.\n",
        "Observações:\n",
        "\n",
        "Este documento é um resumo das análises realizadas. Para mais detalhes, consulte o código Python no repositório GitHub.\n",
        "As visualizações e resultados apresentados neste documento são específicos do conjunto de dados utilizado.\n",
        "Referências\n",
        "\n",
        "Scikit-learn documentation: https://scikit-learn.org/stable/index.html\n",
        "Pandas documentation: https://pandas.pydata.org/docs/\n",
        "Matplotlib documentation: https://matplotlib.org/stable/index.html"
      ],
      "metadata": {
        "id": "c0CqT-5vSFYm"
      }
    },
    {
      "cell_type": "code",
      "source": [
        "!pip install nbformat\n",
        "import nbformat\n",
        "!which python"
      ],
      "metadata": {
        "colab": {
          "base_uri": "https://localhost:8080/"
        },
        "id": "iDS4iQpGW6e8",
        "outputId": "3618fff6-29dc-4cc3-d741-8390238aadb5"
      },
      "execution_count": 6,
      "outputs": [
        {
          "output_type": "stream",
          "name": "stdout",
          "text": [
            "Requirement already satisfied: nbformat in /usr/local/lib/python3.10/dist-packages (5.10.4)\n",
            "Requirement already satisfied: fastjsonschema>=2.15 in /usr/local/lib/python3.10/dist-packages (from nbformat) (2.19.1)\n",
            "Requirement already satisfied: jsonschema>=2.6 in /usr/local/lib/python3.10/dist-packages (from nbformat) (4.19.2)\n",
            "Requirement already satisfied: jupyter-core!=5.0.*,>=4.12 in /usr/local/lib/python3.10/dist-packages (from nbformat) (5.7.2)\n",
            "Requirement already satisfied: traitlets>=5.1 in /usr/local/lib/python3.10/dist-packages (from nbformat) (5.7.1)\n",
            "Requirement already satisfied: attrs>=22.2.0 in /usr/local/lib/python3.10/dist-packages (from jsonschema>=2.6->nbformat) (23.2.0)\n",
            "Requirement already satisfied: jsonschema-specifications>=2023.03.6 in /usr/local/lib/python3.10/dist-packages (from jsonschema>=2.6->nbformat) (2023.12.1)\n",
            "Requirement already satisfied: referencing>=0.28.4 in /usr/local/lib/python3.10/dist-packages (from jsonschema>=2.6->nbformat) (0.34.0)\n",
            "Requirement already satisfied: rpds-py>=0.7.1 in /usr/local/lib/python3.10/dist-packages (from jsonschema>=2.6->nbformat) (0.18.0)\n",
            "Requirement already satisfied: platformdirs>=2.5 in /usr/local/lib/python3.10/dist-packages (from jupyter-core!=5.0.*,>=4.12->nbformat) (4.2.0)\n",
            "/usr/local/bin/python\n"
          ]
        }
      ]
    },
    {
      "cell_type": "code",
      "source": [
        "# Importe as bibliotecas necessárias\n",
        "from nbconvert import NotebookExporter\n",
        "\n",
        "# Crie uma instância do NotebookExporter\n",
        "exporter = NotebookExporter()\n",
        "\n",
        "# Verifique o caminho do seu notebook no Colab (substitua se necessário)\n",
        "notebook_filename = \"M25_Desafio_extra.ipynb\"\n",
        "markdown_content = \"\"  # Inicialize a variável vazia\n",
        "\n",
        "# Converta o notebook em Markdown\n",
        "try:\n",
        "  with open(notebook_filename) as f:\n",
        "    notebook = f.read()\n",
        "    markdown_content, _ = exporter.export(notebook, as_version=4)\n",
        "except FileNotFoundError:\n",
        "  print(\"Arquivo do notebook não encontrado. Verifique o caminho!\")\n",
        "\n",
        "# Salve o conteúdo Markdown em um arquivo (use a variável definida)\n",
        "with open('documentacao.md', 'w') as f:\n",
        "  f.write(markdown_content)\n",
        "\n"
      ],
      "metadata": {
        "colab": {
          "base_uri": "https://localhost:8080/"
        },
        "id": "IywkZWLRQpNq",
        "outputId": "b398e9e9-5f84-49fc-defd-f135e1edd0b2"
      },
      "execution_count": 19,
      "outputs": [
        {
          "output_type": "stream",
          "name": "stdout",
          "text": [
            "Arquivo do notebook não encontrado. Verifique o caminho!\n"
          ]
        }
      ]
    }
  ]
}